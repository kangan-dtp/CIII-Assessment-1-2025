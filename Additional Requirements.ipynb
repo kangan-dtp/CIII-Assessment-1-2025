{
 "cells": [
  {
   "cell_type": "markdown",
   "id": "52e9f672",
   "metadata": {},
   "source": [
    "Choose both or at least one of the following to add to the requirements for the student:\n",
    "- usage history list should be numbered\n",
    "```\n",
    "=========== Usage History ===========\n",
    "1. Brake Pads | 2 units | TSF-903\n",
    "2. Brake Pads | 4 units | JLS-595\n",
    "=====================================\n",
    "```\n",
    "\n",
    "- when using a part advise the user of how many units are left\n",
    "```\n",
    "Enter your choice: 2\n",
    "\n",
    "Enter the name of the car part to use: Brake Pads\n",
    "There are 50 Brake Pads left.\n",
    "Enter the quantity to use: 10\n",
    "Enter the registration: TSF-903\n",
    "```"
   ]
  }
 ],
 "metadata": {
  "language_info": {
   "name": "python"
  }
 },
 "nbformat": 4,
 "nbformat_minor": 5
}
